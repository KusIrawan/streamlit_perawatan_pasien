{
 "cells": [
  {
   "cell_type": "markdown",
   "metadata": {},
   "source": [
    "## Menentukan library yang akan digunakan"
   ]
  },
  {
   "cell_type": "code",
   "execution_count": 25,
   "metadata": {},
   "outputs": [],
   "source": [
    "import numpy as np\n",
    "import pandas as pd\n",
    "from sklearn.model_selection import train_test_split\n",
    "from sklearn.linear_model import LogisticRegression\n",
    "from sklearn.metrics import accuracy_score\n"
   ]
  },
  {
   "cell_type": "markdown",
   "metadata": {},
   "source": [
    "## Load dataset"
   ]
  },
  {
   "cell_type": "code",
   "execution_count": 26,
   "metadata": {},
   "outputs": [],
   "source": [
    "Perawatan_Pasien = pd.read_csv('training_set.csv')"
   ]
  },
  {
   "cell_type": "code",
   "execution_count": 27,
   "metadata": {},
   "outputs": [
    {
     "data": {
      "text/html": [
       "<div>\n",
       "<style scoped>\n",
       "    .dataframe tbody tr th:only-of-type {\n",
       "        vertical-align: middle;\n",
       "    }\n",
       "\n",
       "    .dataframe tbody tr th {\n",
       "        vertical-align: top;\n",
       "    }\n",
       "\n",
       "    .dataframe thead th {\n",
       "        text-align: right;\n",
       "    }\n",
       "</style>\n",
       "<table border=\"1\" class=\"dataframe\">\n",
       "  <thead>\n",
       "    <tr style=\"text-align: right;\">\n",
       "      <th></th>\n",
       "      <th>HAEMATOCRIT</th>\n",
       "      <th>HAEMOGLOBINS</th>\n",
       "      <th>ERYTHROCYTE</th>\n",
       "      <th>LEUCOCYTE</th>\n",
       "      <th>THROMBOCYTE</th>\n",
       "      <th>MCH</th>\n",
       "      <th>MCHC</th>\n",
       "      <th>MCV</th>\n",
       "      <th>AGE</th>\n",
       "      <th>SEX</th>\n",
       "      <th>SOURCE</th>\n",
       "    </tr>\n",
       "  </thead>\n",
       "  <tbody>\n",
       "    <tr>\n",
       "      <th>0</th>\n",
       "      <td>33.8</td>\n",
       "      <td>11.1</td>\n",
       "      <td>4.18</td>\n",
       "      <td>4.6</td>\n",
       "      <td>150</td>\n",
       "      <td>26.6</td>\n",
       "      <td>32.8</td>\n",
       "      <td>80.9</td>\n",
       "      <td>33</td>\n",
       "      <td>1</td>\n",
       "      <td>1</td>\n",
       "    </tr>\n",
       "    <tr>\n",
       "      <th>1</th>\n",
       "      <td>44.6</td>\n",
       "      <td>14.0</td>\n",
       "      <td>6.86</td>\n",
       "      <td>6.3</td>\n",
       "      <td>232</td>\n",
       "      <td>20.4</td>\n",
       "      <td>31.4</td>\n",
       "      <td>65.0</td>\n",
       "      <td>36</td>\n",
       "      <td>0</td>\n",
       "      <td>0</td>\n",
       "    </tr>\n",
       "    <tr>\n",
       "      <th>2</th>\n",
       "      <td>42.9</td>\n",
       "      <td>14.0</td>\n",
       "      <td>4.57</td>\n",
       "      <td>6.2</td>\n",
       "      <td>336</td>\n",
       "      <td>30.6</td>\n",
       "      <td>32.6</td>\n",
       "      <td>93.9</td>\n",
       "      <td>70</td>\n",
       "      <td>1</td>\n",
       "      <td>0</td>\n",
       "    </tr>\n",
       "    <tr>\n",
       "      <th>3</th>\n",
       "      <td>41.9</td>\n",
       "      <td>14.4</td>\n",
       "      <td>4.67</td>\n",
       "      <td>3.5</td>\n",
       "      <td>276</td>\n",
       "      <td>30.8</td>\n",
       "      <td>34.4</td>\n",
       "      <td>89.7</td>\n",
       "      <td>18</td>\n",
       "      <td>1</td>\n",
       "      <td>0</td>\n",
       "    </tr>\n",
       "    <tr>\n",
       "      <th>4</th>\n",
       "      <td>40.6</td>\n",
       "      <td>13.3</td>\n",
       "      <td>4.85</td>\n",
       "      <td>14.9</td>\n",
       "      <td>711</td>\n",
       "      <td>27.4</td>\n",
       "      <td>32.8</td>\n",
       "      <td>83.7</td>\n",
       "      <td>36</td>\n",
       "      <td>0</td>\n",
       "      <td>0</td>\n",
       "    </tr>\n",
       "  </tbody>\n",
       "</table>\n",
       "</div>"
      ],
      "text/plain": [
       "   HAEMATOCRIT  HAEMOGLOBINS  ERYTHROCYTE  LEUCOCYTE  THROMBOCYTE   MCH  MCHC  \\\n",
       "0         33.8          11.1         4.18        4.6          150  26.6  32.8   \n",
       "1         44.6          14.0         6.86        6.3          232  20.4  31.4   \n",
       "2         42.9          14.0         4.57        6.2          336  30.6  32.6   \n",
       "3         41.9          14.4         4.67        3.5          276  30.8  34.4   \n",
       "4         40.6          13.3         4.85       14.9          711  27.4  32.8   \n",
       "\n",
       "    MCV  AGE  SEX  SOURCE  \n",
       "0  80.9   33    1       1  \n",
       "1  65.0   36    0       0  \n",
       "2  93.9   70    1       0  \n",
       "3  89.7   18    1       0  \n",
       "4  83.7   36    0       0  "
      ]
     },
     "execution_count": 27,
     "metadata": {},
     "output_type": "execute_result"
    }
   ],
   "source": [
    "Perawatan_Pasien.head()"
   ]
  },
  {
   "cell_type": "markdown",
   "metadata": {},
   "source": [
    "## Memisahkan data atribut dengan label"
   ]
  },
  {
   "cell_type": "code",
   "execution_count": 28,
   "metadata": {},
   "outputs": [],
   "source": [
    "X = Perawatan_Pasien.drop(columns='SOURCE', axis=1)\n",
    "Y = Perawatan_Pasien['SOURCE']"
   ]
  },
  {
   "cell_type": "code",
   "execution_count": 29,
   "metadata": {},
   "outputs": [
    {
     "name": "stdout",
     "output_type": "stream",
     "text": [
      "      HAEMATOCRIT  HAEMOGLOBINS  ERYTHROCYTE  LEUCOCYTE  THROMBOCYTE   MCH  \\\n",
      "0            33.8          11.1         4.18        4.6          150  26.6   \n",
      "1            44.6          14.0         6.86        6.3          232  20.4   \n",
      "2            42.9          14.0         4.57        6.2          336  30.6   \n",
      "3            41.9          14.4         4.67        3.5          276  30.8   \n",
      "4            40.6          13.3         4.85       14.9          711  27.4   \n",
      "...           ...           ...          ...        ...          ...   ...   \n",
      "3304         39.0          13.2         4.45        4.0           50  29.7   \n",
      "3305         25.4           8.2         3.27        5.4           90  25.1   \n",
      "3306         38.2          12.4         4.40        8.4          328  28.2   \n",
      "3307         43.4          15.2         5.29       10.1          326  28.7   \n",
      "3308         32.4          10.7         3.66        9.4          214  29.2   \n",
      "\n",
      "      MCHC   MCV  AGE  SEX  \n",
      "0     32.8  80.9   33    1  \n",
      "1     31.4  65.0   36    0  \n",
      "2     32.6  93.9   70    1  \n",
      "3     34.4  89.7   18    1  \n",
      "4     32.8  83.7   36    0  \n",
      "...    ...   ...  ...  ...  \n",
      "3304  33.8  87.6   45    0  \n",
      "3305  32.3  77.7    1    1  \n",
      "3306  32.5  86.8   64    0  \n",
      "3307  35.0  82.0   33    0  \n",
      "3308  33.0  88.5   72    1  \n",
      "\n",
      "[3309 rows x 10 columns]\n"
     ]
    }
   ],
   "source": [
    "print(X)"
   ]
  },
  {
   "cell_type": "code",
   "execution_count": 30,
   "metadata": {},
   "outputs": [
    {
     "name": "stdout",
     "output_type": "stream",
     "text": [
      "0       1\n",
      "1       0\n",
      "2       0\n",
      "3       0\n",
      "4       0\n",
      "       ..\n",
      "3304    1\n",
      "3305    1\n",
      "3306    0\n",
      "3307    0\n",
      "3308    1\n",
      "Name: SOURCE, Length: 3309, dtype: int64\n"
     ]
    }
   ],
   "source": [
    "print(Y)"
   ]
  },
  {
   "cell_type": "markdown",
   "metadata": {},
   "source": [
    "## Memisahkan data training dengan data testing"
   ]
  },
  {
   "cell_type": "code",
   "execution_count": 31,
   "metadata": {},
   "outputs": [],
   "source": [
    "X_train, X_test, Y_train, Y_test = train_test_split(X, Y, test_size=0.2, stratify=Y, random_state=2)"
   ]
  },
  {
   "cell_type": "code",
   "execution_count": 32,
   "metadata": {},
   "outputs": [
    {
     "name": "stdout",
     "output_type": "stream",
     "text": [
      "(3309, 10) (2647, 10) (662, 10)\n"
     ]
    }
   ],
   "source": [
    "print (X.shape, X_train.shape, X_test.shape)"
   ]
  },
  {
   "cell_type": "markdown",
   "metadata": {},
   "source": [
    "## Membuat model training"
   ]
  },
  {
   "cell_type": "code",
   "execution_count": 33,
   "metadata": {},
   "outputs": [],
   "source": [
    "model = LogisticRegression()"
   ]
  },
  {
   "cell_type": "code",
   "execution_count": 34,
   "metadata": {},
   "outputs": [
    {
     "name": "stderr",
     "output_type": "stream",
     "text": [
      "c:\\Users\\Kus Irawan Indra S\\anaconda3\\lib\\site-packages\\sklearn\\linear_model\\_logistic.py:814: ConvergenceWarning: lbfgs failed to converge (status=1):\n",
      "STOP: TOTAL NO. of ITERATIONS REACHED LIMIT.\n",
      "\n",
      "Increase the number of iterations (max_iter) or scale the data as shown in:\n",
      "    https://scikit-learn.org/stable/modules/preprocessing.html\n",
      "Please also refer to the documentation for alternative solver options:\n",
      "    https://scikit-learn.org/stable/modules/linear_model.html#logistic-regression\n",
      "  n_iter_i = _check_optimize_result(\n"
     ]
    },
    {
     "data": {
      "text/plain": [
       "LogisticRegression()"
      ]
     },
     "execution_count": 34,
     "metadata": {},
     "output_type": "execute_result"
    }
   ],
   "source": [
    "model.fit(X_train, Y_train)"
   ]
  },
  {
   "cell_type": "markdown",
   "metadata": {},
   "source": [
    "## Evaluasi Model "
   ]
  },
  {
   "cell_type": "code",
   "execution_count": 35,
   "metadata": {},
   "outputs": [],
   "source": [
    "X_train_prediction = model.predict(X_train)\n",
    "training_data_accuracy = accuracy_score(X_train_prediction, Y_train)\n"
   ]
  },
  {
   "cell_type": "code",
   "execution_count": 36,
   "metadata": {},
   "outputs": [
    {
     "name": "stdout",
     "output_type": "stream",
     "text": [
      "akurasi data training:  0.7193048734416321\n"
     ]
    }
   ],
   "source": [
    "print('akurasi data training: ', training_data_accuracy)"
   ]
  },
  {
   "cell_type": "code",
   "execution_count": 37,
   "metadata": {},
   "outputs": [],
   "source": [
    "X_test_prediction = model.predict(X_test)\n",
    "test_data_accuracy = accuracy_score(X_test_prediction, Y_test)"
   ]
  },
  {
   "cell_type": "code",
   "execution_count": 38,
   "metadata": {},
   "outputs": [
    {
     "name": "stdout",
     "output_type": "stream",
     "text": [
      "akurasi data testing: 0.7084592145015106\n"
     ]
    }
   ],
   "source": [
    "print('akurasi data testing:', test_data_accuracy)"
   ]
  },
  {
   "cell_type": "markdown",
   "metadata": {},
   "source": [
    "## Membuat Model Prediksi"
   ]
  },
  {
   "cell_type": "code",
   "execution_count": 44,
   "metadata": {},
   "outputs": [
    {
     "name": "stdout",
     "output_type": "stream",
     "text": [
      "[1]\n",
      "Pasien Rawat Inap\n"
     ]
    },
    {
     "name": "stderr",
     "output_type": "stream",
     "text": [
      "c:\\Users\\Kus Irawan Indra S\\anaconda3\\lib\\site-packages\\sklearn\\base.py:450: UserWarning: X does not have valid feature names, but LogisticRegression was fitted with feature names\n",
      "  warnings.warn(\n"
     ]
    }
   ],
   "source": [
    "input_data = (33.8,11.1,4.18,4.6,150,26.6,32.8,80.9,33,1)\n",
    "input_data_as_numpy_array = np.asarray(input_data)\n",
    "input_data_reshaped = input_data_as_numpy_array.reshape(1, -1)\n",
    "prediction = model.predict(input_data_reshaped)\n",
    "print(prediction)\n",
    "\n",
    "if(prediction[0] == 0):\n",
    "    print('Pasien Rawat Jalan')\n",
    "else:\n",
    "    print('Pasien Rawat Inap')"
   ]
  },
  {
   "cell_type": "markdown",
   "metadata": {},
   "source": [
    "## Simpan Model"
   ]
  },
  {
   "cell_type": "code",
   "execution_count": 42,
   "metadata": {},
   "outputs": [],
   "source": [
    "import pickle"
   ]
  },
  {
   "cell_type": "code",
   "execution_count": 43,
   "metadata": {},
   "outputs": [],
   "source": [
    "filename = 'Patient_Treatment.sav'\n",
    "pickle.dump(model, open(filename, 'wb'))"
   ]
  }
 ],
 "metadata": {
  "kernelspec": {
   "display_name": "base",
   "language": "python",
   "name": "python3"
  },
  "language_info": {
   "codemirror_mode": {
    "name": "ipython",
    "version": 3
   },
   "file_extension": ".py",
   "mimetype": "text/x-python",
   "name": "python",
   "nbconvert_exporter": "python",
   "pygments_lexer": "ipython3",
   "version": "3.9.13"
  },
  "orig_nbformat": 4,
  "vscode": {
   "interpreter": {
    "hash": "1ec6c41f6b1c5722e745c5f86665e02be334322f9ae0d4d6ee23aebb38b85c7a"
   }
  }
 },
 "nbformat": 4,
 "nbformat_minor": 2
}
